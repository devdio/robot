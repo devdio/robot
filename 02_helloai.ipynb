{
 "cells": [
  {
   "cell_type": "markdown",
   "id": "f7b010a7-9f65-4440-b067-481575570d44",
   "metadata": {},
   "source": [
    "# HelloAI"
   ]
  },
  {
   "cell_type": "markdown",
   "id": "7ce878c8-ac11-4477-a204-9cf87d386e4f",
   "metadata": {},
   "source": [
    "## 카메라 표시\n",
    "\n",
    "- 640 x 480\n",
    "- top left (0, 0)\n",
    "- bottom right : (640, 480)"
   ]
  },
  {
   "cell_type": "code",
   "execution_count": null,
   "id": "4855389c-555f-4d40-97f7-05f38c491da5",
   "metadata": {},
   "outputs": [
    {
     "name": "stdout",
     "output_type": "stream",
     "text": [
      "WARNING:tensorflow:From C:\\work\\miniconda3\\envs\\robot\\lib\\site-packages\\keras\\src\\losses.py:2976: The name tf.losses.sparse_softmax_cross_entropy is deprecated. Please use tf.compat.v1.losses.sparse_softmax_cross_entropy instead.\n",
      "\n",
      "<HelloAI.Window Object Title:wnd, Size:((640, 480)) ,at memory location: (0x17fdbc8cac0)>\n",
      "__key__ esc\n"
     ]
    }
   ],
   "source": [
    "from helloai import *\n",
    "\n",
    "wnd = Window('wnd')\n",
    "\n",
    "# Using Camera\n",
    "camera = Camera()\n",
    "\n",
    "# Infinite Loop\n",
    "def loop():\n",
    "    # Get From Camera\n",
    "    img = camera.read()\n",
    "\n",
    "    \n",
    "    # Display images read from the camera \n",
    "    wnd.show(img)\n",
    "\n",
    "# ---------------------------------------\n",
    "# For HelloAI\n",
    "# ---------------------------------------\n",
    "if __name__ == '__main__':\n",
    "    run()"
   ]
  },
  {
   "cell_type": "markdown",
   "id": "bf06108f-90a7-40b6-9f0d-4f5407654c31",
   "metadata": {},
   "source": [
    "## 손 검출"
   ]
  },
  {
   "cell_type": "markdown",
   "id": "cc56f11d-addf-4dd6-afaf-e1c2ce873eb0",
   "metadata": {},
   "source": [
    "<img src=\"https://camo.githubusercontent.com/cc87e384b553a0f19dcf8a36341b37a7081edc0b21b0d0ac364200b9e3bb98a1/68747470733a2f2f6d65646961706970652e6465762f696d616765732f6d6f62696c652f68616e645f6c616e646d61726b732e706e67\" />"
   ]
  },
  {
   "cell_type": "code",
   "execution_count": null,
   "id": "42d1ef9f-2e9b-4d5d-b44d-4b74849a5bc5",
   "metadata": {},
   "outputs": [],
   "source": [
    "from helloai import *\n",
    "\n",
    "wnd = Window('wnd')\n",
    "\n",
    "# Using Camera\n",
    "camera = Camera()\n",
    "\n",
    "# Create and initialize Object \n",
    "detector = HandsDetector()\n",
    "\n",
    "# Infinite Loop\n",
    "def loop():\n",
    "    # Get From Camera\n",
    "    img = camera.read()\n",
    "\n",
    "    # Recognize hand\n",
    "    img, landmarks = detector.process(img, draw=True)\n",
    "\n",
    "    # Display information about recognized hand\n",
    "    # print(landmarks)\n",
    "    \n",
    "    # Display images read from the camera \n",
    "    wnd.show(img)\n",
    "\n",
    "# ---------------------------------------\n",
    "# For HelloAI\n",
    "# ---------------------------------------\n",
    "if __name__ == '__main__':\n",
    "    run()"
   ]
  },
  {
   "cell_type": "markdown",
   "id": "6eea4b5c-1a89-48e1-ae9a-52e7deafd0ae",
   "metadata": {},
   "source": [
    "### 검지 끝 좌표 표시 "
   ]
  },
  {
   "cell_type": "code",
   "execution_count": null,
   "id": "59f79dd3-cf87-4ed6-b4ef-4fdfe9f96d12",
   "metadata": {},
   "outputs": [],
   "source": [
    "from helloai import *\n",
    "\n",
    "wnd = Window('wnd')\n",
    "\n",
    "# Using Camera\n",
    "camera = Camera()\n",
    "\n",
    "# Create and initialize Object \n",
    "detector = HandsDetector()\n",
    "\n",
    "# Infinite Loop\n",
    "def loop():\n",
    "    # Get From Camera\n",
    "    img = camera.read()\n",
    "\n",
    "    # Recognize hand\n",
    "    img, landmarks = detector.process(img, draw=True)\n",
    "\n",
    "   if len(landmarks) > 0:\n",
    "        print(landmarks[8])\n",
    "    \n",
    "    # Display images read from the camera \n",
    "    wnd.show(img)\n",
    "\n",
    "# ---------------------------------------\n",
    "# For HelloAI\n",
    "# ---------------------------------------\n",
    "if __name__ == '__main__':\n",
    "    run()"
   ]
  },
  {
   "cell_type": "markdown",
   "id": "9e86d3bc-411c-4757-b214-1e4aea61b32f",
   "metadata": {},
   "source": [
    "### 검지의 위치를 인식해서 카미봇 동작시키기 "
   ]
  },
  {
   "cell_type": "code",
   "execution_count": null,
   "id": "7375a66e-9dcf-4e27-a100-8420fe720389",
   "metadata": {},
   "outputs": [],
   "source": [
    "from helloai import *\n",
    "from pyKamipi.pibot import *\n",
    "\n",
    "# Connect to KamibotPi\n",
    "kamibot = KamibotPi('COM3', 57600)\n",
    "\n",
    "wnd = Window('wnd')\n",
    "\n",
    "# Using Camera\n",
    "camera = Camera()\n",
    "\n",
    "# Create and initialize Object \n",
    "detector = HandsDetector()\n",
    "\n",
    "# Infinite Loop\n",
    "def loop():\n",
    "    # Get From Camera\n",
    "    img = camera.read()\n",
    "\n",
    "    # Recognize hand\n",
    "    img, landmarks = detector.process(img, draw=True)\n",
    "\n",
    "   if len(landmarks) > 0:\n",
    "        print(landmarks[8])\n",
    "\n",
    "        index = landmarks[8]\n",
    "        X = index[0]\n",
    "        if X > 320:\n",
    "            kamibot.go_dir_speed(\"f\", 10, \"f\", 10)\n",
    "        else:\n",
    "            kamibot.go_dir_speed(\"b\", 10, \"b\", 10)\n",
    "   else:\n",
    "       kamibot.stop()\n",
    "    \n",
    "    \n",
    "    # Display images read from the camera \n",
    "    wnd.show(img)\n",
    "\n",
    "# ---------------------------------------\n",
    "# For HelloAI\n",
    "# ---------------------------------------\n",
    "if __name__ == '__main__':\n",
    "    run()"
   ]
  },
  {
   "cell_type": "markdown",
   "id": "c9d3299e-3b40-4d11-864c-e420db1fc279",
   "metadata": {},
   "source": [
    "## 포즈 검출"
   ]
  },
  {
   "cell_type": "markdown",
   "id": "d7f370a5-038e-4700-9ac7-26ca3e27ced8",
   "metadata": {},
   "source": [
    "<img src=\"https://camo.githubusercontent.com/d3afebfc801ee1a094c28604c7a0eb25f8b9c9925f75b0fff4c8c8b4871c0d28/68747470733a2f2f6d65646961706970652e6465762f696d616765732f6d6f62696c652f706f73655f747261636b696e675f66756c6c5f626f64795f6c616e646d61726b732e706e67\" />"
   ]
  },
  {
   "cell_type": "code",
   "execution_count": null,
   "id": "0a62056c-25c7-4b39-89f3-6267324a9218",
   "metadata": {},
   "outputs": [],
   "source": [
    "from helloai import *\n",
    "\n",
    "wnd = Window('wnd')\n",
    "camera = Camera()\n",
    "\n",
    "detector = PoseDetector()\n",
    "\n",
    "def loop():\n",
    "    img = camera.read()\n",
    "\n",
    "    # detect Pose \n",
    "    img, landmarks = detector.process(img, draw=True)\n",
    " \n",
    "    if len(landmarks) > 0:\n",
    "        # 좌표가 오른쪽 왼쪽이 반대\n",
    "        x16 = landmarks[16]  # left hand\n",
    "        print(x16)\n",
    "\n",
    "\n",
    "    # update image \n",
    "    wnd.show(img)\n",
    "\n",
    "# ---------------------------------------\n",
    "# for HelloAI\n",
    "# ---------------------------------------\n",
    "if __name__ == '__main__':\n",
    "    run()"
   ]
  }
 ],
 "metadata": {
  "kernelspec": {
   "display_name": "Python 3 (ipykernel)",
   "language": "python",
   "name": "python3"
  },
  "language_info": {
   "codemirror_mode": {
    "name": "ipython",
    "version": 3
   },
   "file_extension": ".py",
   "mimetype": "text/x-python",
   "name": "python",
   "nbconvert_exporter": "python",
   "pygments_lexer": "ipython3",
   "version": "3.9.0"
  }
 },
 "nbformat": 4,
 "nbformat_minor": 5
}
