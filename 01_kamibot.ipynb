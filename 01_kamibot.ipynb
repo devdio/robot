{
 "cells": [
  {
   "cell_type": "markdown",
   "id": "359bde93-eb1d-472a-89fc-dc64c8353343",
   "metadata": {},
   "source": [
    "# Kamibot\n",
    "\n",
    "-  [pyKamipi API](https://pypi.org/project/pyKamipi/)\n"
   ]
  },
  {
   "cell_type": "markdown",
   "id": "85d7e12e-5d2f-4e2e-a8cd-ad6ef4520c66",
   "metadata": {},
   "source": [
    "### Forward"
   ]
  },
  {
   "cell_type": "code",
   "execution_count": null,
   "id": "31266339-e583-47a5-890e-46b39c718959",
   "metadata": {},
   "outputs": [],
   "source": [
    "from pyKamipi.pibot import *\n",
    "\n",
    "kamibot = KamibotPi('COM11', 57600)\n",
    "\n",
    "kamibot.go_dir_speed(\"f\", 10, \"f\", 10)\n",
    "kamibot.delay(3)\n",
    "kamibot.stop()\n",
    "\n",
    "# disconnect to KamibotPi\n",
    "# kamibot.close()"
   ]
  },
  {
   "cell_type": "markdown",
   "id": "5ac8669b-db1e-4abe-ab7e-aebd7793ac1e",
   "metadata": {},
   "source": [
    "### Backward"
   ]
  },
  {
   "cell_type": "code",
   "execution_count": null,
   "id": "4803857f-d994-4f47-9ee8-35708021a42f",
   "metadata": {},
   "outputs": [],
   "source": [
    "# from pyKamipi.pibot import *\n",
    "\n",
    "# kamibot = KamibotPi('COM11', 57600)\n",
    "\n",
    "kamibot.go_dir_speed(\"b\", 10, \"b\", 10)\n",
    "kamibot.delay(3)\n",
    "kamibot.stop()\n",
    "\n",
    "# disconnect to KamibotPi\n",
    "# kamibot.close()"
   ]
  },
  {
   "cell_type": "markdown",
   "id": "b886be75-1e90-455a-bf43-fc3dd7795439",
   "metadata": {},
   "source": [
    "### Turn Left/Right\n",
    "제자리 돌기"
   ]
  },
  {
   "cell_type": "code",
   "execution_count": 20,
   "id": "809ec934-ee23-46db-a18c-438c57ca7437",
   "metadata": {},
   "outputs": [],
   "source": [
    "# from pyKamipi.pibot import *\n",
    "# kamibot = KamibotPi('COM11', 57600)\n",
    "\n",
    "kamibot.turn_right_speed(90, speed=100)\n",
    "kamibot.delay(1)\n",
    "kamibot.stop()\n",
    "\n",
    "# disconnect to KamibotPi\n",
    "# kamibot.close()"
   ]
  },
  {
   "cell_type": "code",
   "execution_count": null,
   "id": "9506b7c3-ee61-4ecf-8198-ad3463d43142",
   "metadata": {},
   "outputs": [],
   "source": [
    "# from pyKamipi.pibot import *\n",
    "# kamibot = KamibotPi('COM11', 57600)\n",
    "\n",
    "kamibot.turn_left_speed(90, speed=100)\n",
    "kamibot.delay(1)\n",
    "kamibot.stop()\n",
    "\n",
    "# disconnect to KamibotPi\n",
    "# kamibot.close()"
   ]
  },
  {
   "cell_type": "markdown",
   "id": "183c059e-8032-4612-aab8-f078535fa102",
   "metadata": {},
   "source": [
    "### 정밀 이동\n",
    "일정 거리 이동 "
   ]
  },
  {
   "cell_type": "code",
   "execution_count": 21,
   "id": "1b5a5208-2ad2-4f9b-86cd-c7af57cbbe2d",
   "metadata": {},
   "outputs": [],
   "source": [
    "# from pyKamipi.pibot import *\n",
    "# kamibot = KamibotPi('COM11', 57600)\n",
    "\n",
    "kamibot.move_forward_unit(10, \"-l\") # 10cm\n",
    "kamibot.delay(1)\n",
    "kamibot.stop()"
   ]
  },
  {
   "cell_type": "code",
   "execution_count": null,
   "id": "edf20b8d-78aa-4f7e-85b4-e5f9b58a83b4",
   "metadata": {},
   "outputs": [],
   "source": [
    "# from pyKamipi.pibot import *\n",
    "# kamibot = KamibotPi('COM11', 57600)\n",
    "\n",
    "kamibot.move_backward_unit(10, \"-l\") # 10cm"
   ]
  },
  {
   "cell_type": "markdown",
   "id": "b1da5199-8b71-46ec-ac9d-8afef5935967",
   "metadata": {},
   "source": [
    "### 좌우 바퀴 속도 지정 "
   ]
  },
  {
   "cell_type": "code",
   "execution_count": null,
   "id": "c6c18ba5-760a-483d-9a8d-0b6700cdb398",
   "metadata": {},
   "outputs": [],
   "source": [
    "kamibot.go_forward_speed(50, 100)\n",
    "kamibot.delay(1)\n",
    "\n",
    "kamibot.go_backward_speed(100, 50)\n",
    "kamibot.delay(1)\n",
    "kamibot.stop()"
   ]
  },
  {
   "cell_type": "markdown",
   "id": "14eaf617-54b1-499d-9085-add4bc53c07f",
   "metadata": {},
   "source": [
    "### LED"
   ]
  },
  {
   "cell_type": "code",
   "execution_count": 17,
   "id": "d551ae2b-ced6-476c-a6e4-40c1c78eef23",
   "metadata": {},
   "outputs": [],
   "source": [
    "kamibot.turn_led(255, 0, 0)\n",
    "kamibot.delay(1)\n",
    "kamibot.turn_led(0, 255, 0)\n",
    "kamibot.delay(1)\n",
    "kamibot.turn_led(0, 0, 255)\n",
    "kamibot.delay(1)"
   ]
  },
  {
   "cell_type": "markdown",
   "id": "95230394-0fb4-4a9e-84d3-7f5e170dbe5d",
   "metadata": {},
   "source": [
    "### Beep"
   ]
  },
  {
   "cell_type": "code",
   "execution_count": 19,
   "id": "c9ad705a-3623-4137-91c1-af3c8968796e",
   "metadata": {},
   "outputs": [],
   "source": [
    "kamibot.beep()\n",
    "kamibot.beep()\n",
    "kamibot.beep()"
   ]
  },
  {
   "cell_type": "markdown",
   "id": "569b849a-b562-43ca-bc02-3b0652fe1d4c",
   "metadata": {},
   "source": [
    "### 장애물 감지 센서"
   ]
  },
  {
   "cell_type": "code",
   "execution_count": 22,
   "id": "8f53e056-45dd-4d1a-ae77-2206e7206991",
   "metadata": {},
   "outputs": [
    {
     "name": "stdout",
     "output_type": "stream",
     "text": [
      "left=0, right=0\n"
     ]
    },
    {
     "data": {
      "text/plain": [
       "(0, 0)"
      ]
     },
     "execution_count": 22,
     "metadata": {},
     "output_type": "execute_result"
    }
   ],
   "source": [
    "left, right = kamibot.get_object_detect()\n",
    "print(f\"left={left}, right={right}\")\n",
    "kamibot.delay(1)\n",
    "kamibot.get_object_detect(False)"
   ]
  },
  {
   "cell_type": "markdown",
   "id": "82a7694d-f187-456e-abe1-01128982a6d9",
   "metadata": {},
   "source": [
    "### 탑모터 제어"
   ]
  },
  {
   "cell_type": "code",
   "execution_count": 24,
   "id": "d825a3d5-4036-4958-8e27-02cc44779fb5",
   "metadata": {},
   "outputs": [],
   "source": [
    "# ------------------------------------------------\n",
    "# 탑모터 제어  top_motor_degree\n",
    "# ------------------------------------------------\n",
    "kamibot.top_motor_degree(\"l\", 180)  # 왼쪽 방향으로\n",
    "kamibot.delay(1)\n",
    "\n",
    "kamibot.top_motor_degree(\"r\", 180)  # 오른쪽 방향으로\n",
    "kamibot.delay(1)"
   ]
  },
  {
   "cell_type": "markdown",
   "id": "b743738d-d341-4765-b0af-f9384c4b985b",
   "metadata": {},
   "source": [
    "### END"
   ]
  },
  {
   "cell_type": "code",
   "execution_count": null,
   "id": "cf66f112-b00f-463c-b63c-fadf52858e5b",
   "metadata": {},
   "outputs": [],
   "source": []
  }
 ],
 "metadata": {
  "kernelspec": {
   "display_name": "Python 3 (ipykernel)",
   "language": "python",
   "name": "python3"
  },
  "language_info": {
   "codemirror_mode": {
    "name": "ipython",
    "version": 3
   },
   "file_extension": ".py",
   "mimetype": "text/x-python",
   "name": "python",
   "nbconvert_exporter": "python",
   "pygments_lexer": "ipython3",
   "version": "3.9.0"
  }
 },
 "nbformat": 4,
 "nbformat_minor": 5
}
